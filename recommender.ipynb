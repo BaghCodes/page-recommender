{
 "cells": [
  {
   "cell_type": "code",
   "execution_count": 9,
   "id": "8717e18a",
   "metadata": {},
   "outputs": [],
   "source": [
    "import json"
   ]
  },
  {
   "cell_type": "code",
   "execution_count": 10,
   "id": "a218560f",
   "metadata": {},
   "outputs": [],
   "source": [
    "def load_data(file):\n",
    "    with open(file,\"r\") as f:\n",
    "        return json.load(f)"
   ]
  },
  {
   "cell_type": "code",
   "execution_count": 11,
   "id": "215a5ad8",
   "metadata": {},
   "outputs": [],
   "source": [
    "def pages(user_id,data):\n",
    "    #dictionary to store the pages visited by the user\n",
    "    user_pages = {}\n",
    "\n",
    "    #loop through the data to find the pages visited by the user\n",
    "    for user in data[\"users\"]:\n",
    "        user_pages[user[\"id\"]] = set(user[\"liked_pages\"])\n",
    "    \n",
    "    #if the user id is not in the dictionary, return an empty list\n",
    "    if user_id not in user_pages:\n",
    "        return []\n",
    "\n",
    "    liked_pages = user_pages[user_id]\n",
    "    #page suggestions\n",
    "    sugges = {}\n",
    "\n",
    "    for other, pages in user_pages.items():\n",
    "        if other != user_id:\n",
    "            shared_pages = liked_pages.intersection(pages)\n",
    "        for page in pages:\n",
    "            if page not in liked_pages:\n",
    "                sugges[page] = sugges.get(page,0) - len(shared_pages)\n",
    "\n",
    "\n",
    "    sorted_sugges = sorted(sugges.items(), key=lambda x:x[1], reverse=True)\n",
    "    return [(page_id,score) for page_id,score in sorted_sugges]"
   ]
  },
  {
   "cell_type": "code",
   "execution_count": 15,
   "id": "ab0f5507",
   "metadata": {},
   "outputs": [
    {
     "name": "stdout",
     "output_type": "stream",
     "text": [
      "[(39, 0), (11, -1), (5, -1), (40, -1), (9, -2), (18, -3), (25, -3), (30, -3), (32, -3), (37, -3), (22, -4), (3, -4), (2, -4), (14, -4), (28, -4), (36, -4), (17, -4), (24, -4), (16, -4), (23, -4), (21, -4), (38, -4), (34, -5), (13, -5), (26, -5), (31, -6), (8, -6), (29, -6), (15, -7), (19, -7), (27, -9), (6, -9), (33, -10), (10, -10), (7, -11)]\n"
     ]
    }
   ],
   "source": [
    "data=load_data(\"data.json\")\n",
    "user_id = 1\n",
    "page_recommendations = pages(user_id, data)\n",
    "print(page_recommendations)"
   ]
  },
  {
   "cell_type": "code",
   "execution_count": null,
   "id": "6ec8f01f",
   "metadata": {},
   "outputs": [],
   "source": []
  }
 ],
 "metadata": {
  "kernelspec": {
   "display_name": "Python 3",
   "language": "python",
   "name": "python3"
  },
  "language_info": {
   "codemirror_mode": {
    "name": "ipython",
    "version": 3
   },
   "file_extension": ".py",
   "mimetype": "text/x-python",
   "name": "python",
   "nbconvert_exporter": "python",
   "pygments_lexer": "ipython3",
   "version": "3.11.9"
  }
 },
 "nbformat": 4,
 "nbformat_minor": 5
}
